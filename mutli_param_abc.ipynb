{
 "cells": [
  {
   "cell_type": "code",
   "execution_count": 39,
   "metadata": {},
   "outputs": [
    {
     "name": "stderr",
     "output_type": "stream",
     "text": [
      "/Users/gcgibson/anaconda/lib/python2.7/site-packages/ipykernel_launcher.py:30: RuntimeWarning: overflow encountered in double_scalars\n",
      "/Users/gcgibson/anaconda/lib/python2.7/site-packages/ipykernel_launcher.py:33: RuntimeWarning: overflow encountered in double_scalars\n",
      "/Users/gcgibson/anaconda/lib/python2.7/site-packages/ipykernel_launcher.py:30: RuntimeWarning: invalid value encountered in double_scalars\n",
      "/Users/gcgibson/anaconda/lib/python2.7/site-packages/ipykernel_launcher.py:33: RuntimeWarning: invalid value encountered in double_scalars\n",
      "/Users/gcgibson/anaconda/lib/python2.7/site-packages/ipykernel_launcher.py:87: RuntimeWarning: overflow encountered in power\n"
     ]
    },
    {
     "data": {
      "text/plain": [
       "(array([[-0.69375166,  0.75820916],\n",
       "        [-1.34599392, -0.53025452],\n",
       "        [-1.15489056, -0.1696147 ],\n",
       "        [-1.07976536, -0.34290822],\n",
       "        [-1.3491498 , -0.38482699],\n",
       "        [-1.53357531, -0.38704829],\n",
       "        [-1.25467919, -0.3780346 ],\n",
       "        [-0.40229475,  0.7426802 ],\n",
       "        [-0.5635759 ,  0.67855292],\n",
       "        [-0.72527238,  0.71677491]]),\n",
       " array([-59.12376088, -58.77351633, -58.41609276, -59.08112389,\n",
       "        -57.88915388, -59.75870553, -57.90886025, -58.8272537 ,\n",
       "        -58.21557317, -58.69684645]),\n",
       " ('MT19937', array([2018476531, 2931342584, 2052255306,  536810047, 3009045161,\n",
       "         2670222944,  642549853, 2197467716, 1060005970, 3701453110,\n",
       "         4109120634, 1434765959,  719072481,  912550750,   71396552,\n",
       "         2563984188, 2580409064, 1588380076, 1031746024, 3763941332,\n",
       "         4131738600, 2524287913,  748921405, 2201579651, 1502212645,\n",
       "          142923574, 3432710457, 3865027336, 4090838480, 2111894967,\n",
       "          172628405,  711418704, 3591105019,   99481733, 1193280343,\n",
       "          475735231,   96734897, 3711849212, 3371925109, 3850349212,\n",
       "         1829191629,  657028480,  980877383, 2385111761, 3598590298,\n",
       "         3116527504, 1679920783, 3077721924, 3140168072, 1335373837,\n",
       "         1569873019,  523096472, 1299196512, 1980254276,  763292180,\n",
       "         1956612244, 3683046900, 1264264457,  994305012, 1951672194,\n",
       "         2911562613, 3636426480,  518205057, 3529021174, 3239990589,\n",
       "         4226961327,  648602009, 2189548788, 3135030341, 2923800922,\n",
       "         2763448232, 2339077695, 1032773554, 3526251480, 4176410850,\n",
       "         3495525724, 2635788139, 1222155644, 3709775103, 3553865519,\n",
       "         3711920102,  246283025, 2943292354, 3872576087, 4054350237,\n",
       "          452483069, 4004116385, 1885463146,  833374353, 3684637336,\n",
       "         2882631903, 2000578877, 3593964793, 4212061196, 1436143874,\n",
       "         4157996054, 1088316087,  124447916, 1199655985, 3407610289,\n",
       "         3868750255, 3515172771,  977379774, 2579207008,  982547398,\n",
       "           61835657, 3065328058, 2288681615, 2191758828, 4198073976,\n",
       "         2787911693, 1580450605, 2764604242, 2147389729, 1644859651,\n",
       "         3247390260, 3350946206, 3505710054,  280916926, 2586002011,\n",
       "         3966278261,   29482645, 3966298012,  863769418,  144861472,\n",
       "          639502314, 2844972736, 2505663831, 2880677388,  355458932,\n",
       "         3060697119, 2967201460, 3262783460, 1384478772, 1971467200,\n",
       "         3801884058, 1342833636, 4083340262, 2492502963, 1059089554,\n",
       "         1719470948,  635640162, 4002314720, 1422648976, 3181000555,\n",
       "         2265476457, 1300316067, 2576352859,  664212223, 2020854173,\n",
       "          236437392, 2833749866,  294453690, 2005961775, 2202808355,\n",
       "         1837083357, 3076762994, 2059192992, 3746155641,  737889880,\n",
       "         4069607092, 4236167357,  292584154,  219638340, 1398240959,\n",
       "          596953183, 2720298283,  854213138,  920402335, 3305734144,\n",
       "         4231104289, 1544811510,  336866095, 2103524719, 2644247880,\n",
       "         2359236353, 3474484617, 1232089110, 2329634472, 3995250885,\n",
       "         3112469540, 1777060965, 1886643589,  269575371, 1198594690,\n",
       "         3939612472,  699760255,  904985836, 2000914247, 3907443385,\n",
       "         1414979633, 1739417693,  368504876, 4238794394, 3902761806,\n",
       "         4166246469, 3314369036, 4276357721,  263944907, 1674884314,\n",
       "          656710349, 3259094628, 1072984877, 3757321912,  980352787,\n",
       "         1772966773, 3618370831,  611814978, 1376095142, 1529823645,\n",
       "         3153534100, 1007889730, 1263675613, 3411272971, 3862849499,\n",
       "         3765761724, 4285883783,  296890868,   14658344,   25585424,\n",
       "          260300269, 3005136447, 1888629795, 2394341963, 4120217057,\n",
       "          484194740,  920670597,  260180056, 2492070815, 3232818012,\n",
       "         1298013203, 2994133561, 3459240009, 3185214115, 1617769963,\n",
       "         2371914288,  494868279,   90456306, 1323666596,  392197329,\n",
       "         2805280011,    6081434, 1950257448, 3700808621, 3370303398,\n",
       "         1548005968, 2828058047,  566938772,  135688610, 2313127786,\n",
       "         2146563378, 2211339079,  364099790, 2966291439, 2574939601,\n",
       "         1493504105, 2947486416, 2718785547, 3165955014, 4220539466,\n",
       "         1865858427,  305599694,  322714877, 1373295406, 2302521498,\n",
       "          513589596, 3167573883,  311295527, 2187382136,  572881756,\n",
       "          900809539,  544817341, 3896107541,  873965249, 3108573305,\n",
       "         3209690608,  135907329, 2246698427, 1013536104, 1026270475,\n",
       "         3276184495, 2262832812, 3501298678, 2311855417,  428909225,\n",
       "         3279158704,  840001842, 4107347793, 2863691789, 1813491207,\n",
       "          683492255, 2346037887,  433165870, 3933585896,  339106731,\n",
       "         1018635680, 2337420258, 2427279531, 3961708647,  334569799,\n",
       "         3045439517, 4071896633, 4105130649, 1588892006, 3306743315,\n",
       "         1326299771, 1124817516,  177404068,  836403247, 3427567228,\n",
       "         1307844105,   88253333, 2540996483, 2333003167, 1593914871,\n",
       "         2370614665, 3092515218, 2536071125, 4129030519,  191735266,\n",
       "         1688030441, 3316158970,   38456407,  666576859, 1891216678,\n",
       "         4143018978, 3314190029,  524414609, 1866024781,  186292971,\n",
       "         3602063493,  484091114,  643514169,  288463840, 2542133843,\n",
       "         3106523399, 1078527143, 3482071930, 3904130463, 3220533660,\n",
       "         1185764656, 3941180361,   96316661, 2352177559, 4071976907,\n",
       "         2705758287, 1715785644,  362221153, 1752096904,  140796353,\n",
       "         2595128018,  926360903, 2881701228,  520858498,  420154323,\n",
       "         2419250409,  217175819,  818167017, 1870220424, 1412533919,\n",
       "         2967612309,  504584244, 3902693825,  396756162, 3313903383,\n",
       "         3861724799,  501297059, 1129485366, 4004027719, 1449197585,\n",
       "         4204319267, 2092192885, 1236419073, 2183542074, 1860561661,\n",
       "         2168999185, 1609623079, 1661084489, 2241198527, 3920150680,\n",
       "         1045764020, 1476207120, 3056827606,  466637193, 2088686277,\n",
       "         1857717994, 1842527457, 3387942244,  737517489, 2849273030,\n",
       "         1209817719, 1786158396, 4292147037,  497091085, 3896010119,\n",
       "         1322043705, 1373310144, 2099648603, 3695450608, 3079533531,\n",
       "         1108364177,  874505373, 1094942048, 1630905229, 1400944110,\n",
       "          616957818, 2966121770, 1689666914, 3776016310, 2391859038,\n",
       "         2178610403, 2219782439, 4035490476, 2581257216, 2844515169,\n",
       "         3699590950, 1302553228, 3722210068, 2178514037, 1383413694,\n",
       "         3238886088, 1163091298, 2565267347,  569475383, 1209117408,\n",
       "         3184483804, 3174733614, 3591245667, 4113452560, 2600406564,\n",
       "         1190366294, 3354771762, 1159998698, 3029559438, 2485178590,\n",
       "         3538160249,  627369538, 2959987498, 1775109085,  259597279,\n",
       "          205492086, 3562046198, 1825610196,  766802344,   19135289,\n",
       "         2313374070, 2015025497,    5070798, 2985539399, 3804362403,\n",
       "         1283304793, 3445072711, 1741450793, 1407380262, 3014903999,\n",
       "           58124668, 3679554636, 4234109848,  219926191, 1146732162,\n",
       "         2703733790, 3860282322,  723305524,  793591321, 4218724648,\n",
       "         2884313049, 3609970902, 3177244094, 2643104172, 4013953873,\n",
       "          145635965, 2059662482, 1586921893, 2035039944, 3127630552,\n",
       "         1634486125,  137428492, 2137475878, 2777397719, 1976801597,\n",
       "          565220560,  949976180, 1753305884, 1540888491, 3730161407,\n",
       "          393510590, 4222867164, 4241265661,  464219007, 4033951520,\n",
       "         3189305651,  942593103, 2513192930,  536737752, 2643568761,\n",
       "         1889891628, 2690583750, 4262731995, 1424985685, 4076988654,\n",
       "         2140754995, 3942932993,  854699671, 2397880303, 2477110323,\n",
       "          809165424, 4102774092, 2458117222, 3230001517, 3864723716,\n",
       "         3794397465,  403524642, 3755906034,  766627501, 2126889257,\n",
       "         3531912566, 2722508162, 2349402685, 2241976596, 3975313439,\n",
       "         1958167422, 3354520987, 2551019635,  716270310, 4114625013,\n",
       "         3860638520,   45214520, 1878460093, 1848489356,  418323573,\n",
       "         2078032798, 3273528043, 3432347461, 2390405126, 2583513731,\n",
       "         3033589089, 4169517649, 2764186449, 2131467247, 3552348804,\n",
       "          637329651, 1166880498,  539980025,  268276471,  268544058,\n",
       "            7176884, 1530965217, 1127213134,  635195296, 1299554947,\n",
       "         3089383335,  957351785, 1698693750, 4193634322, 1798238576,\n",
       "         3627563039, 1334907930, 3471093920,  808815301, 2022453506,\n",
       "          709417317, 1636085452, 2830494981, 1083687334, 2068409137,\n",
       "         4063725855,  758239795, 2346480876, 3498131981, 2685102146,\n",
       "         4044943936,  120071867, 3014435010, 1840623480,  684041069,\n",
       "         3462337238, 3766845192,   20250718, 3070769055,  436874486,\n",
       "          928773247,   96069689, 3013835198, 1273118585, 2943887790,\n",
       "         1602159337, 2944199417, 1957018238, 4019090310, 2384057080,\n",
       "         1734983266, 1441742594, 4125589759,  876039304, 2710015474,\n",
       "         1284005696, 1555039240,  776706416, 3253162461, 1366397161,\n",
       "          952333864, 3610290245, 3575153782, 3594526044, 1375721708,\n",
       "         4042950466, 1225804986, 2080900066, 3123178802, 1053060682,\n",
       "           13810972, 2054160973,  618392556, 1255267075, 3208439879,\n",
       "           20704587, 3098501489, 4007217534, 2996948587, 1615875502,\n",
       "         3910374798,  909779728, 1923036362, 4109663462], dtype=uint32), 543, 0, 0.0))"
      ]
     },
     "execution_count": 39,
     "metadata": {},
     "output_type": "execute_result"
    }
   ],
   "source": [
    "import numpy as np\n",
    "with open(\"/Users/gcgibson/Stein-Variational-Gradient-Descent/python/dat.json\") as f:\n",
    "    dat = f.read()\n",
    "    \n",
    "    \n",
    "    dat = dat.split(\",\")\n",
    "    time = []\n",
    "    cases = []\n",
    "    count = 0\n",
    "    for elm in dat:\n",
    "        if count % 2 ==0:\n",
    "            time.append(elm.split(\":\")[1])\n",
    "        else:\n",
    "            cases.append(int(elm.split(\":\")[1].replace(\"}\",\"\").replace(']\"]\\n',\"\")))\n",
    "        count +=1\n",
    "\n",
    "\n",
    "cases = np.array(cases)\n",
    "cases = cases/(1.0*np.max(cases))\n",
    "beta0 = .1\n",
    "mu = 1/(200.0*110)\n",
    "\n",
    "\"\"\"\n",
    "Y[0] = mu - beta*V[0]*V[1] - mu*V[0]\n",
    "\tY[1] = beta*V[0]*V[1] - mu*V[1] - gamma*V[1]\n",
    "\tY[2] = gamma * V[1] - mu * V[2]\n",
    "\"\"\"\n",
    "\n",
    "def fa(a,b,c,alpha,beta):\n",
    "    return mu -beta*a*b - mu*a\n",
    "\n",
    "def fb(a,b,c,alpha,beta):\n",
    "    return beta*a*b - alpha*b - mu*b\n",
    "def fc(a,b,c,alpha,beta):\n",
    "    return alpha*b - mu*c\n",
    "\n",
    "def rK3(a, b, c, fa, fb, fc, hs,alpha,beta,t):\n",
    "    beta=beta*(1+ np.sin(2*np.pi*t/110))\n",
    "    \n",
    "    a1 = fa(a, b, c, alpha, beta)*hs\n",
    "    b1 = fb(a, b, c, alpha, beta)*hs\n",
    "    c1 = fc(a, b, c, alpha, beta)*hs\n",
    "    ak = a + a1*0.5\n",
    "    bk = b + b1*0.5\n",
    "    ck = c + c1*0.5\n",
    "    a2 = fa(ak, bk, ck, alpha, beta)*hs\n",
    "    b2 = fb(ak, bk, ck, alpha, beta)*hs\n",
    "    c2 = fc(ak, bk, ck, alpha, beta)*hs\n",
    "    ak = a + a2*0.5\n",
    "    bk = b + b2*0.5\n",
    "    ck = c + c2*0.5\n",
    "    a3 = fa(ak, bk, ck, alpha, beta)*hs\n",
    "    b3 = fb(ak, bk, ck, alpha, beta)*hs\n",
    "    c3 = fc(ak, bk, ck, alpha, beta)*hs\n",
    "    ak = a + a3\n",
    "    bk = b + b3\n",
    "    ck = c + c3\n",
    "    a4 = fa(ak, bk, ck, alpha, beta)*hs\n",
    "    b4 = fb(ak, bk, ck, alpha, beta)*hs\n",
    "    c4 = fc(ak, bk, ck, alpha, beta)*hs\n",
    "    a = a + (a1 + 2*(a2 + a3) + a4)/6\n",
    "    b = b + (b1 + 2*(b2 + b3) + b4)/6\n",
    "    c = c + (c1 + 2*(c2 + c3) + c4)/6\n",
    "    return a, b, c\n",
    "\n",
    "def forward_sample(theta):\n",
    "    alpha = theta[0]\n",
    "    beta = theta[1]\n",
    "    a, b, c, hs = .9, .001, 0, 0.05\n",
    "    a_arr = []\n",
    "    b_arr = []\n",
    "    c_arr = []\n",
    "    #t_range = \n",
    "    for i in range(len(cases)):\n",
    "        a, b, c = rK3(a, b, c, fa, fb, fc, hs, alpha, beta,i)\n",
    "        a_arr.append(a)\n",
    "        b_arr.append(b)\n",
    "        c_arr.append(c)\n",
    "    return b_arr\n",
    "\n",
    "import emcee\n",
    "from scipy.stats import norm\n",
    "d2 = np.array(forward_sample([.2,1.9]))\n",
    "\n",
    "def distance_abc(theta):\n",
    "   # print (np.mean(np.power((np.array(b_arr)-np.array(cases[:200])),2)))\n",
    "    tmp = -np.sum(np.power(np.array(forward_sample(np.exp(theta)))-cases,2))\n",
    "    #print (tmp + norm.logpdf(theta,0,1) )\n",
    "    ret_val = tmp + norm.logpdf(theta,0,10)\n",
    "    if np.isnan(ret_val).any():\n",
    "        ret_val = -10000000*np.ones(2)\n",
    "    #print (ret_val.shape)\n",
    "    return ret_val.sum()\n",
    "\n",
    "ndim, nwalkers = 2, 10\n",
    "p0 = [np.random.rand(ndim) for i in range(nwalkers)]\n",
    "\n",
    "sampler = emcee.EnsembleSampler(nwalkers, ndim, distance_abc)\n",
    "sampler.run_mcmc(p0, 1000)\n"
   ]
  },
  {
   "cell_type": "code",
   "execution_count": 40,
   "metadata": {},
   "outputs": [
    {
     "name": "stdout",
     "output_type": "stream",
     "text": [
      "1.0934081496627583\n"
     ]
    },
    {
     "data": {
      "image/png": "[encoded data removed]",
      "text/plain": [
       "<matplotlib.figure.Figure at 0x11354fed0>"
      ]
     },
     "metadata": {},
     "output_type": "display_data"
    },
    {
     "name": "stdout",
     "output_type": "stream",
     "text": [
      "1.5145047271248413\n"
     ]
    },
    {
     "data": {
      "image/png": "[encoded data removed]",
      "text/plain": [
       "<matplotlib.figure.Figure at 0x11348a0d0>"
      ]
     },
     "metadata": {},
     "output_type": "display_data"
    }
   ],
   "source": [
    "import matplotlib.pyplot as plt\n",
    "\n",
    "samples = sampler.chain[:, 50:, :].reshape((-1, ndim))\n",
    "print (np.mean(np.exp(samples[:,0])))\n",
    "plt.hist(np.exp(samples[:,0]))\n",
    "plt.show()\n",
    "print (np.mean(np.exp(samples[:,1])))\n",
    "plt.hist(np.exp(samples[:,1]))\n",
    "plt.show()"
   ]
  },
  {
   "cell_type": "code",
   "execution_count": 41,
   "metadata": {},
   "outputs": [
    {
     "data": {
      "image/png": "[encoded data removed]",
      "text/plain": [
       "<matplotlib.figure.Figure at 0x1129e4290>"
      ]
     },
     "metadata": {},
     "output_type": "display_data"
    },
    {
     "data": {
      "image/png": "[encoded data removed]",
      "text/plain": [
       "<matplotlib.figure.Figure at 0x112d79390>"
      ]
     },
     "metadata": {},
     "output_type": "display_data"
    }
   ],
   "source": [
    "alpha =  np.mean(np.exp(samples[:,0]))\n",
    "beta = np.mean(np.exp(samples[:,1]))\n",
    "plt.plot(forward_sample([alpha,beta]))\n",
    "plt.show()\n",
    "plt.plot(cases)\n",
    "plt.show()"
   ]
  },
  {
   "cell_type": "code",
   "execution_count": null,
   "metadata": {
    "collapsed": true
   },
   "outputs": [],
   "source": []
  }
 ],
 "metadata": {
  "kernelspec": {
   "display_name": "Python 2",
   "language": "python",
   "name": "python2"
  },
  "language_info": {
   "codemirror_mode": {
    "name": "ipython",
    "version": 2
   },
   "file_extension": ".py",
   "mimetype": "text/x-python",
   "name": "python",
   "nbconvert_exporter": "python",
   "pygments_lexer": "ipython2",
   "version": "2.7.13"
  }
 },
 "nbformat": 4,
 "nbformat_minor": 2
}
